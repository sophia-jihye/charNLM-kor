{
 "cells": [
  {
   "cell_type": "code",
   "execution_count": 9,
   "metadata": {
    "collapsed": false
   },
   "outputs": [
    {
     "name": "stderr",
     "output_type": "stream",
     "text": [
      "/home/dmlab/anaconda3/lib/python3.6/importlib/_bootstrap.py:219: RuntimeWarning: compiletime version 3.5 of module 'tensorflow.python.framework.fast_tensor_util' does not match runtime version 3.6\n",
      "  return f(*args, **kwds)\n"
     ]
    },
    {
     "name": "stdout",
     "output_type": "stream",
     "text": [
      "tf.__version__ :  1.4.0\n",
      "keras.__version__ :  2.0.8-tf\n"
     ]
    }
   ],
   "source": [
    "import tensorflow as tf\n",
    "from tensorflow import keras\n",
    "import numpy as np\n",
    "from config import parameters\n",
    "import os\n",
    "from six.moves import cPickle as pickle\n",
    "from model.LSTMCNN import LSTMCNN\n",
    "\n",
    "vocab_npz_filepath = os.path.join(parameters.output_base_dir, '20200112-22-19-29_vocab.npz')\n",
    "param_pkl_filepath = os.path.join(parameters.output_base_dir, '20200112-22-19-29_model_param.pkl')\n",
    "model_weights_h5_filepath = os.path.join(parameters.output_base_dir, '')\n",
    "\n",
    "def vocab_unpack(vocab):\n",
    "    return vocab['idx2word'], vocab['word2idx'], vocab['idx2char'], vocab['char2idx']\n",
    "\n",
    "def word_vector(emb_layer, word_idx):\n",
    "    weights = emb_layer.weights[0]\n",
    "    return weights.value()[:, word_idx]"
   ]
  },
  {
   "cell_type": "code",
   "execution_count": null,
   "metadata": {
    "collapsed": true
   },
   "outputs": [],
   "source": [
    "type(word2idx)"
   ]
  },
  {
   "cell_type": "code",
   "execution_count": null,
   "metadata": {
    "collapsed": true
   },
   "outputs": [],
   "source": [
    "TARGET_WORD = '저널'\n",
    "\n",
    "vocab_mapping = np.load(vocab_npz_filepath)\n",
    "idx2word, word2idx, idx2char, char2idx = vocab_unpack(vocab_mapping)\n",
    "\n",
    "param = pickle.load(open(param_pkl_filepath, \"rb\"))\n",
    "model = LSTMCNN(param)\n",
    "model.load_weights(model_weights_h5_filepath)\n",
    "\n",
    "word_vector_target = word_vector(model.layers[-1], word2idx.tolist()[TARGET_WORD])\n",
    "\n",
    "with tf.Session() as sess:\n",
    "    init = tf.global_variables_initializer()\n",
    "    sess.run(init)\n",
    "    word_vector_target = sess.run(word_vector_target)\n",
    "    print('word_vector.shape: ', word_vector_target.shape)\n",
    "    print(word_vector_target)"
   ]
  },
  {
   "cell_type": "code",
   "execution_count": null,
   "metadata": {
    "collapsed": true
   },
   "outputs": [],
   "source": []
  },
  {
   "cell_type": "code",
   "execution_count": null,
   "metadata": {
    "collapsed": true
   },
   "outputs": [],
   "source": []
  },
  {
   "cell_type": "code",
   "execution_count": null,
   "metadata": {
    "collapsed": true
   },
   "outputs": [],
   "source": []
  },
  {
   "cell_type": "code",
   "execution_count": null,
   "metadata": {
    "collapsed": true
   },
   "outputs": [],
   "source": []
  },
  {
   "cell_type": "code",
   "execution_count": null,
   "metadata": {
    "collapsed": true
   },
   "outputs": [],
   "source": []
  },
  {
   "cell_type": "code",
   "execution_count": null,
   "metadata": {
    "collapsed": true
   },
   "outputs": [],
   "source": []
  }
 ],
 "metadata": {
  "kernelspec": {
   "display_name": "Python 3",
   "language": "python",
   "name": "python3"
  },
  "language_info": {
   "codemirror_mode": {
    "name": "ipython",
    "version": 3
   },
   "file_extension": ".py",
   "mimetype": "text/x-python",
   "name": "python",
   "nbconvert_exporter": "python",
   "pygments_lexer": "ipython3",
   "version": "3.6.9"
  }
 },
 "nbformat": 4,
 "nbformat_minor": 2
}
